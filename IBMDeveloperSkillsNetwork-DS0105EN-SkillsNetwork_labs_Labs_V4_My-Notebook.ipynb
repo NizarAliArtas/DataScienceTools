{
  "metadata": {
    "language_info": {
      "codemirror_mode": {
        "name": "python",
        "version": 3
      },
      "file_extension": ".py",
      "mimetype": "text/x-python",
      "name": "python",
      "nbconvert_exporter": "python",
      "pygments_lexer": "ipython3",
      "version": "3.8"
    },
    "kernelspec": {
      "name": "python",
      "display_name": "Python (Pyodide)",
      "language": "python"
    }
  },
  "nbformat_minor": 4,
  "nbformat": 4,
  "cells": [
    {
      "cell_type": "markdown",
      "source": "# Tools For Data Science",
      "metadata": {}
    },
    {
      "cell_type": "markdown",
      "source": "This is the final assignment of the course",
      "metadata": {}
    },
    {
      "cell_type": "markdown",
      "source": "# List of Data Science Languages\n1. Python\n2. R\n3. SQL\n4. Julia\n5. Scala",
      "metadata": {}
    },
    {
      "cell_type": "markdown",
      "source": "# List of Data Science Libraries \n1. Tensor Flow\n2. PyTorch\n3. Scikit-Learn\n4. Caffe",
      "metadata": {}
    },
    {
      "cell_type": "markdown",
      "source": "\n# Data Science Tools\n| Number | Name |\n| ------ | ---- |\n| 1 | Tableau |\n| 2 | SAS |\n| 3 | MATLAB |",
      "metadata": {}
    },
    {
      "cell_type": "markdown",
      "source": "Here are some Examples of Arithemitic Expressions",
      "metadata": {}
    },
    {
      "cell_type": "code",
      "source": "(2+2)*6",
      "metadata": {
        "trusted": true
      },
      "execution_count": 5,
      "outputs": [
        {
          "execution_count": 5,
          "output_type": "execute_result",
          "data": {
            "text/plain": "24"
          },
          "metadata": {}
        }
      ]
    },
    {
      "cell_type": "code",
      "source": "#### Perimeter of Rectangle\n2*(6+8)",
      "metadata": {
        "trusted": true
      },
      "execution_count": 8,
      "outputs": [
        {
          "execution_count": 8,
          "output_type": "execute_result",
          "data": {
            "text/plain": "28"
          },
          "metadata": {}
        }
      ]
    },
    {
      "cell_type": "code",
      "source": "# Input value in minutes\nminutes = 250  \n\n# Convert minutes to hours\nhours = minutes / 60\n\n# Display the result\nprint(f\"{minutes} minutes is equal to {hours} hours\")\n",
      "metadata": {
        "trusted": true
      },
      "execution_count": 11,
      "outputs": [
        {
          "name": "stdout",
          "text": "250 minutes is equal to 4.166666666666667 hours\n",
          "output_type": "stream"
        }
      ]
    },
    {
      "cell_type": "markdown",
      "source": "# Objectives\n- Quiz\n- Assignment\n- Exam\n- Mid term",
      "metadata": {}
    },
    {
      "cell_type": "markdown",
      "source": "## Author:\nNizar Ali Artas",
      "metadata": {}
    },
    {
      "cell_type": "code",
      "source": "",
      "metadata": {},
      "execution_count": null,
      "outputs": []
    }
  ]
}